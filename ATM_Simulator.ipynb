{
 "cells": [
  {
   "cell_type": "code",
   "execution_count": 1,
   "id": "6c33e5df",
   "metadata": {},
   "outputs": [],
   "source": [
    "import time"
   ]
  },
  {
   "cell_type": "code",
   "execution_count": 2,
   "id": "bec37cee",
   "metadata": {},
   "outputs": [
    {
     "name": "stdout",
     "output_type": "stream",
     "text": [
      "\n",
      "            ***** Welcome to HDFC Bank ATM Machine *****\n",
      "         \n",
      "Enter Your Pin: 4545\n",
      "\n",
      "            Options you can Excercise with us, are:\n",
      "            1) Check the Balance\n",
      "            2) Withdraw Amount\n",
      "            3) Deposit the Money\n",
      "            4) Exit from the ATM\n",
      "         \n",
      "Select Your Transaction from the above options: 2\n",
      "Enter the Withdrawal Amount: 5000\n",
      "Please collect the cash and remove the card from the machine\n",
      "Your availabe balance is : 5000\n"
     ]
    }
   ],
   "source": [
    "\n",
    "def atm_simulation():\n",
    "    \n",
    "    balance=10000 # predefined\n",
    "    \n",
    "    print('''\n",
    "            ***** Welcome to HDFC Bank ATM Machine *****\n",
    "         ''')\n",
    "    \n",
    "    pin=int(input('Enter Your Pin: ')) # Validation of the PIN number - 4 digit or not, alpabets\n",
    "    \n",
    "    print('''\n",
    "            Options you can Excercise with us, are:\n",
    "            1) Check the Balance\n",
    "            2) Withdraw Amount\n",
    "            3) Deposit the Money\n",
    "            4) Exit from the ATM\n",
    "         ''')\n",
    "    \n",
    "    choose=int(input('Select Your Transaction from the above options: '))\n",
    "    \n",
    "    if choose==1:\n",
    "        print(f'Available A/C Balance Is {balance}')\n",
    "    elif choose==2:\n",
    "        withdraw=int(input('Enter the Withdrawal Amount: '))\n",
    "        if withdraw<=balance:\n",
    "            balance-=withdraw\n",
    "            print('Please collect the cash and remove the card from the machine')\n",
    "            print(f'Your availabe balance is : {balance}')\n",
    "        else:\n",
    "            print('Insufficient Balance, entered amount is greater than the available balance')\n",
    "    elif choose==3:\n",
    "        amount=int(input('Enter the Deposit Amount: '))\n",
    "        balance+=amount\n",
    "        print(f'New Balance is : {balance}')\n",
    "    elif choose==4:\n",
    "        print('Thank you for using Eduonix ATM,now you will be exited from the ATM Machine')\n",
    "        exit()\n",
    "    else:\n",
    "        time.sleep(10)\n",
    "        print('No Selected Transaction') # wait() 10sec sleep()\n",
    "        exit()\n",
    "    \n",
    "    return\n",
    "        \n",
    "\n",
    "        \n",
    "if __name__ == \"__main__\":\n",
    "    \n",
    "    atm_simulation()\n",
    "\n",
    "    \n",
    "    # this is executing the code only if the file to be run directly"
   ]
  },
  {
   "cell_type": "code",
   "execution_count": null,
   "id": "706babd0",
   "metadata": {},
   "outputs": [],
   "source": [
    "# Documentation:\n",
    "# Add appropriate docstrings to the functions and classes in the code.\n",
    "# Make sure to include information about the function's purpose, parameters, and return values."
   ]
  },
  {
   "cell_type": "code",
   "execution_count": null,
   "id": "24d14af1",
   "metadata": {},
   "outputs": [],
   "source": [
    "# logic/models:\n",
    "#ATM Class: Create an ATM class to represent the ATM system. It should have attributes like pin and balance, and methods to check_balance, withdraw, and deposit money.\n",
    "#User Interaction: Implement a loop for user interaction where they can input their PIN, choose options, and perform actions.\n",
    "#Security: Ensure security by checking the PIN before allowing access and handle account balances securely.\n",
    "#Error Handling: Implement logic to handle invalid inputs, such as incorrect PINs or insufficient funds.\n",
    "#Exit: Provide an option to exit the application when the user is done.\n",
    "\n",
    "\n"
   ]
  }
 ],
 "metadata": {
  "kernelspec": {
   "display_name": "Python 3 (ipykernel)",
   "language": "python",
   "name": "python3"
  },
  "language_info": {
   "codemirror_mode": {
    "name": "ipython",
    "version": 3
   },
   "file_extension": ".py",
   "mimetype": "text/x-python",
   "name": "python",
   "nbconvert_exporter": "python",
   "pygments_lexer": "ipython3",
   "version": "3.11.4"
  }
 },
 "nbformat": 4,
 "nbformat_minor": 5
}
